{
 "cells": [
  {
   "cell_type": "markdown",
   "id": "8a082b63-7a45-4930-8411-5351558da6e3",
   "metadata": {},
   "source": [
    "<h1>Data Science Tools and Ecosystem</h1>"
   ]
  },
  {
   "cell_type": "markdown",
   "id": "8d067622-8cde-42a1-acff-24989a1b4dd8",
   "metadata": {},
   "source": [
    "In this notebook, Data Science Tools and Ecosystem are summarized."
   ]
  },
  {
   "cell_type": "markdown",
   "id": "820a3384-f445-4099-9762-5d13e238a4ac",
   "metadata": {},
   "source": [
    "<b> Objectives: </b>\n",
    " - popular languages that Data Scientists use\n",
    " - commonly used libraries used by Data Scientists\n",
    " - Data Science Tools\n",
    " - examples of evaluating arithmetic expressions in Python"
   ]
  },
  {
   "cell_type": "markdown",
   "id": "5006a240-ddad-4ee5-be3e-dce7268a5377",
   "metadata": {},
   "source": [
    "Some of the popular languages that Data Scientists use are:\n",
    "1. Python\n",
    "2. SQL\n",
    "3. R"
   ]
  },
  {
   "cell_type": "markdown",
   "id": "e4b9e3a7-44fc-4318-98d2-ae8f958f8314",
   "metadata": {},
   "source": [
    "Some of the commonly used libraries used by Data Scientists include:\n",
    "1. Panda\n",
    "2. Numpy\n",
    "3. Matplotlib"
   ]
  },
  {
   "cell_type": "markdown",
   "id": "93cd1c4a-be4a-465a-9bef-fb1a7dd55fcf",
   "metadata": {},
   "source": [
    "| Data Science Tools |\n",
    "|--------------------|\n",
    "| Apache Spark |\n",
    "| Scikit-learn |\n",
    "| Git |"
   ]
  },
  {
   "cell_type": "markdown",
   "id": "67976e22-b9ce-4b3d-8848-950ab8eca95c",
   "metadata": {},
   "source": [
    "<h3> Below are a few examples of evaluating arithmetic expressions in Python </h3>"
   ]
  },
  {
   "cell_type": "code",
   "execution_count": 1,
   "id": "dbb98a19-a2d2-4718-a414-bf5931dd8854",
   "metadata": {},
   "outputs": [
    {
     "name": "stdout",
     "output_type": "stream",
     "text": [
      "17\n"
     ]
    }
   ],
   "source": [
    "#This a simple arithmetic expression to multiply then add integers\n",
    "a = 3\n",
    "b = 4\n",
    "c = 5\n",
    "d = (a*b)+c\n",
    "print (d)"
   ]
  },
  {
   "cell_type": "code",
   "execution_count": 2,
   "id": "acf0836a-5f48-49c2-9e32-3708f39423ed",
   "metadata": {},
   "outputs": [
    {
     "name": "stdout",
     "output_type": "stream",
     "text": [
      "3.3333333333333335\n"
     ]
    }
   ],
   "source": [
    "def minutes_to_hours(minutes):\n",
    "    return minutes / 60\n",
    "\n",
    "hours = minutes_to_hours(200)\n",
    "print (hours)"
   ]
  },
  {
   "cell_type": "markdown",
   "id": "605f9c3d-08d3-49d6-a899-b411b59b1b84",
   "metadata": {},
   "source": [
    "<h2> Author </h2>\n",
    "Adeola Muyiwa"
   ]
  },
  {
   "cell_type": "code",
   "execution_count": null,
   "id": "44b87b22-297e-420d-ae9c-11ee34f7a07e",
   "metadata": {},
   "outputs": [],
   "source": []
  }
 ],
 "metadata": {
  "kernelspec": {
   "display_name": "Python 3 (ipykernel)",
   "language": "python",
   "name": "python3"
  },
  "language_info": {
   "codemirror_mode": {
    "name": "ipython",
    "version": 3
   },
   "file_extension": ".py",
   "mimetype": "text/x-python",
   "name": "python",
   "nbconvert_exporter": "python",
   "pygments_lexer": "ipython3",
   "version": "3.11.9"
  }
 },
 "nbformat": 4,
 "nbformat_minor": 5
}
